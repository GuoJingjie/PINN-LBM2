{
 "cells": [
  {
   "cell_type": "code",
   "execution_count": 1,
   "id": "d348083d",
   "metadata": {},
   "outputs": [
    {
     "name": "stdout",
     "output_type": "stream",
     "text": [
      "Performance in MLUPS: 143.419265142991\n"
     ]
    }
   ],
   "source": [
    "import torch\n",
    "from lettuce import BGKCollision, StandardStreaming, Lattice, D2Q9, TaylorGreenVortex2D, Simulation\n",
    "\n",
    "device = \"cuda:0\"   # for running on cpu: device = \"cpu\"\n",
    "dtype = torch.float32\n",
    "\n",
    "lattice = Lattice(D2Q9, device, dtype)\n",
    "flow = TaylorGreenVortex2D(resolution=256, reynolds_number=10, mach_number=0.05, lattice=lattice)\n",
    "collision = BGKCollision(lattice, tau=flow.units.relaxation_parameter_lu)\n",
    "streaming = StandardStreaming(lattice)\n",
    "simulation = Simulation(flow=flow, lattice=lattice,  collision=collision, streaming=streaming)\n",
    "mlups = simulation.step(num_steps=1000)\n",
    "\n",
    "print(\"Performance in MLUPS:\", mlups)"
   ]
  },
  {
   "cell_type": "code",
   "execution_count": null,
   "id": "554e2f09",
   "metadata": {},
   "outputs": [],
   "source": []
  }
 ],
 "metadata": {
  "kernelspec": {
   "display_name": "Python 3 (ipykernel)",
   "language": "python",
   "name": "python3"
  },
  "language_info": {
   "codemirror_mode": {
    "name": "ipython",
    "version": 3
   },
   "file_extension": ".py",
   "mimetype": "text/x-python",
   "name": "python",
   "nbconvert_exporter": "python",
   "pygments_lexer": "ipython3",
   "version": "3.10.6"
  }
 },
 "nbformat": 4,
 "nbformat_minor": 5
}
