{
 "cells": [
  {
   "cell_type": "code",
   "execution_count": 1,
   "id": "2990afe9",
   "metadata": {},
   "outputs": [],
   "source": [
    "import lettuce as lt\n",
    "from matplotlib import pyplot as plt\n",
    "import numpy as np\n",
    "import time\n",
    "import torch"
   ]
  },
  {
   "cell_type": "code",
   "execution_count": 2,
   "id": "8c78754a",
   "metadata": {},
   "outputs": [],
   "source": [
    "#definiere \"run\" Funktion, die eine Simulation mit dreieckigem Hinderniss\n",
    "#    durchführt.\n",
    "#Simulationslänge ist von der y-Auflösung ny abhängig (ny*100 steps)\n",
    "#\n",
    "def run(step=100, ny=100, re=50, *axes):\n",
    "    # ny: y-Auflösung, axes: Koordinatensystem(e), * erstellt ein Tupel aller übergebenen axes\n",
    "    # ny=100 ist nur der default...\n",
    "    \n",
    "    lattice = lt.Lattice(lt.D2Q9, \"cuda:0\")\n",
    "    flow = lt.Cylinder2D(\n",
    "        (2*ny, ny), #shape der 2D-Box ist XxY: 2ny x ny\n",
    "        reynolds_number=re, #50.0\n",
    "        mach_number=0.05,\n",
    "        lattice=lattice,\n",
    "        domain_length_x=10.1, # in PU\n",
    "    )\n",
    "    x, y = flow.grid #gibt ein Meshgrid zurück: x-2D-Array, y-2D-Array\n",
    "    \n",
    "    condition = np.sqrt((x-2.5)**2+(y-2.5)**2) < 0.5 #die Kreisgleichung rechnet in PU, d.h. die Auflösung spielt hier keine Rolle(!)\n",
    "    flow.mask[np.where(condition)] = 1 #erstelle Obstacle Form (mask als Bool)\n",
    "    #print(\"mask dim.:\",flow.mask.shape)\n",
    "    axes[0].imshow(flow.mask.T, origin=\"lower\") #erstellt ein 2D-Bild der Maske\n",
    "        #flow.mask.T ist die Transponierte von flow.mask (!)\n",
    "        #der (0,0)-Punkt der Grafik sitzt unten links (\"lower\")\n",
    "    \n",
    "    tau = flow.units.relaxation_parameter_lu\n",
    "    sim = lt.Simulation(flow, lattice, lt.KBCCollision2D(lattice, tau), \n",
    "                        lt.StandardStreaming(lattice))\n",
    "    \n",
    "    # Vorticity Objekt erstellen\n",
    "    vorticity=lt.Vorticity(lattice,flow)\n",
    "    # sim.reporters.append(lt.ObservableReporter(vorticity, interval=5,out=None))  # reporter können nur skalare Werte reporten...\n",
    "    #vorticity(sim.f) # Berechnet die Vortizität zur aktuellen Verteilungsfunktion\n",
    "    \n",
    "    # VTK Reporter\n",
    "    VTKreport = lt.VTKReporter(lattice, flow, interval=50, filename_base=\"/mnt/ScratchHDD1/Max_Scratch/cylinder_vtk/out\")\n",
    "    sim.reporters.append(VTKreport)\n",
    "    \n",
    "    t_start=time.time()\n",
    "    n_steps=step\n",
    "    sim.step(n_steps) #Simulation mit Schrittzahl = 100*y-Auflösung\n",
    "    print(\"PU-Time: \",flow.units.convert_time_to_pu(n_steps),\" seconds\")\n",
    "    print(\"Re=\",re)\n",
    "    print(\"number of steps:\",n_steps)\n",
    "    print(\"runtime: \",time.time()-t_start, \"seconds\")\n",
    "    \n",
    "    u = flow.units.convert_velocity_to_pu(lattice.u(sim.f).detach().cpu().numpy())\n",
    "        #Geschwindigkeit wird als numpy-Array in den RAM geschrieben\n",
    "    \n",
    "    return axes[1].imshow(vorticity(sim.f).cpu().T, origin=\"lower\")\n",
    "    # return axes[1].imshow(u[0,...].T, origin=\"lower\")\n",
    "        #erstellt ein 2D-Bild des Geschwindigkeitsfeldes\n",
    "        # Daten müssen von GPU auf CPU transferierit werden vor dem plotten\n",
    "\n",
    "    print(\"Max Velocity: \", float(u.max()))\n",
    "        #wird nicht ausgeführt, weil das schon hinter dem return ist...bruh"
   ]
  },
  {
   "cell_type": "code",
   "execution_count": 3,
   "id": "d1d6bec1",
   "metadata": {},
   "outputs": [],
   "source": [
    "def run_and_plot(ny,nstep,re):\n",
    "    fig, axes = plt.subplots(1,2, figsize=(10,3)) #erstelle Figure\n",
    "    fig.subplots_adjust(right=0.85) #Kürze figure-Größe rechts auf 85%\n",
    "    im2 = run(nstep, ny, re, *axes) #führe run() aus, übergebe die leeren Koordinatensysteme und die y-Auflösung\n",
    "    cbar_ax = fig.add_axes([0.88, 0.15, 0.04, 0.7]) #fügt Koordinatensystem für colorbar hinzu\n",
    "    fig.colorbar(im2, cax=cbar_ax) #fügt colorbar hinzu, zugehörig zum zweiten Koordinatensystem\n",
    "    print(\"left: mask, right: mag.vorticity\") #oder mag.velocity -> ändere in run (!)"
   ]
  },
  {
   "cell_type": "code",
   "execution_count": 4,
   "id": "01fba351",
   "metadata": {},
   "outputs": [],
   "source": [
    "#run_and_plot(ny=100,nstep=100,re=100)"
   ]
  },
  {
   "cell_type": "code",
   "execution_count": 5,
   "id": "f52ee228",
   "metadata": {},
   "outputs": [],
   "source": [
    "#run_and_plot(ny=100,nstep=1000, re=100)"
   ]
  },
  {
   "cell_type": "code",
   "execution_count": 7,
   "id": "e433bb62",
   "metadata": {},
   "outputs": [
    {
     "name": "stdout",
     "output_type": "stream",
     "text": [
      "PU-Time:  145.78094297038052  seconds\n",
      "Re= 1000\n",
      "number of steps: 100000\n",
      "runtime:  174.480717420578 seconds\n",
      "left: mask, right: mag.vorticity\n"
     ]
    },
    {
     "data": {
      "image/png": "[encoded data removed]",
      "text/plain": [
       "<Figure size 1000x300 with 3 Axes>"
      ]
     },
     "metadata": {},
     "output_type": "display_data"
    }
   ],
   "source": [
    "run_and_plot(ny=100,nstep=100000, re=1000)"
   ]
  },
  {
   "cell_type": "code",
   "execution_count": null,
   "id": "eba9e0af",
   "metadata": {},
   "outputs": [],
   "source": []
  }
 ],
 "metadata": {
  "kernelspec": {
   "display_name": "Python 3 (ipykernel)",
   "language": "python",
   "name": "python3"
  },
  "language_info": {
   "codemirror_mode": {
    "name": "ipython",
    "version": 3
   },
   "file_extension": ".py",
   "mimetype": "text/x-python",
   "name": "python",
   "nbconvert_exporter": "python",
   "pygments_lexer": "ipython3",
   "version": "3.10.6"
  },
  "varInspector": {
   "cols": {
    "lenName": 16,
    "lenType": 16,
    "lenVar": 40
   },
   "kernels_config": {
    "python": {
     "delete_cmd_postfix": "",
     "delete_cmd_prefix": "del ",
     "library": "var_list.py",
     "varRefreshCmd": "print(var_dic_list())"
    },
    "r": {
     "delete_cmd_postfix": ") ",
     "delete_cmd_prefix": "rm(",
     "library": "var_list.r",
     "varRefreshCmd": "cat(var_dic_list()) "
    }
   },
   "types_to_exclude": [
    "module",
    "function",
    "builtin_function_or_method",
    "instance",
    "_Feature"
   ],
   "window_display": true
  }
 },
 "nbformat": 4,
 "nbformat_minor": 5
}
