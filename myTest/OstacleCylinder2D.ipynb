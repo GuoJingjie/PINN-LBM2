{
 "cells": [
  {
   "cell_type": "code",
   "execution_count": 3,
   "id": "23b41678",
   "metadata": {},
   "outputs": [],
   "source": [
    "import lettuce as lt\n",
    "import matplotlib.pyplot as plt\n",
    "import numpy as np\n",
    "import torch"
   ]
  },
  {
   "cell_type": "code",
   "execution_count": 4,
   "id": "ab148c7a",
   "metadata": {},
   "outputs": [],
   "source": [
    "#SETUP lattice, flow\n",
    "\n",
    "lattice = lt.Lattice(lt.D2Q9, device = \"cuda\", dtype=torch.float64)\n",
    "flow = lt.Obstacle(shape=(100,50), reynolds_number=50, mach_number=0.05, lattice=lattice, domain_length_x=10.1)\n",
    "    #shape ist die Auflösung in x und y Richtung (!)\n",
    "    #die Dimension von shape muss zur Dimension des Stencils passen\n",
    "    #domain_length_x ist die x-Länge der Box in PU"
   ]
  },
  {
   "cell_type": "code",
   "execution_count": 5,
   "id": "99dd5818",
   "metadata": {},
   "outputs": [],
   "source": [
    "#get x,y-Meshgrid for obstacle-Definition\n",
    "x, y = flow.grid #ein meshgrid mit x-2D Array und y-2D Array"
   ]
  },
  {
   "cell_type": "code",
   "execution_count": null,
   "id": "c363d83d",
   "metadata": {},
   "outputs": [],
   "source": [
    "#define and place obstacle\n",
    "mask_condition = np.sqrt((x-2.5)**2+(y-2.5)**2) < 1.\n",
    "    #Kreisgleichung mit x0, y0 und r \n",
    "    # Alle Punkte des Grids, die die Gleichung erfüllen, werden True, alle anderen False\n",
    "flow.mask[np.where(condition)] = 1\n",
    "    #mask ist ein np.array mit bool-Werten, \n",
    "    # dessen Dimensionen dem grid entsprechen sollten/müssen\n",
    "    #die bool-Werte aus mask_condition, werden in 1 und 0 übersetzt\n",
    "    #das Obstacle wird in die Box gesetzt an der Stelle x0,y0"
   ]
  },
  {
   "cell_type": "code",
   "execution_count": null,
   "id": "4d60dbb5",
   "metadata": {},
   "outputs": [],
   "source": [
    "#SETUP collision, streaming, simulation\n",
    "collision = lt.RegularizedCollision(lattice, tau=flow.units.relaxation_parameter_lu)\n",
    "streaming = lt.StandardStreaming(lattice)\n",
    "simulation = lt.Simulation(flow=flow, lattice=lattice, collision=collision, streaming=streaming)"
   ]
  },
  {
   "cell_type": "code",
   "execution_count": null,
   "id": "1adac080",
   "metadata": {},
   "outputs": [],
   "source": [
    "#SIMULATION\n",
    "mlups = simulation.step(num_steps=int(flow.units.convert_time_to_lu(10)))"
   ]
  }
 ],
 "metadata": {
  "kernelspec": {
   "display_name": "Python 3 (ipykernel)",
   "language": "python",
   "name": "python3"
  },
  "language_info": {
   "codemirror_mode": {
    "name": "ipython",
    "version": 3
   },
   "file_extension": ".py",
   "mimetype": "text/x-python",
   "name": "python",
   "nbconvert_exporter": "python",
   "pygments_lexer": "ipython3",
   "version": "3.10.6"
  }
 },
 "nbformat": 4,
 "nbformat_minor": 5
}
