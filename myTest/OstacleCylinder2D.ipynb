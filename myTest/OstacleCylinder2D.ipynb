{
 "cells": [
  {
   "cell_type": "code",
   "execution_count": 1,
   "id": "23b41678",
   "metadata": {},
   "outputs": [],
   "source": [
    "import lettuce as lt\n",
    "import matplotlib.pyplot as plt\n",
    "import numpy as np\n",
    "import torch"
   ]
  },
  {
   "cell_type": "code",
   "execution_count": 2,
   "id": "ab148c7a",
   "metadata": {},
   "outputs": [],
   "source": [
    "#SETUP (standard, ostacle als Flow)\n",
    "\n",
    "lattice = lt.Lattice(lt.D2Q9, device = \"cuda\", dtype=torch.float64)\n",
    "flow = lt.Obstacle(shape=(500,100), reynolds_number=100, mach_number=0.05, lattice=lattice, domain_length_x=10.1)\n",
    "collision = lt.RegularizedCollision(lattice, tau=flow.units.relaxation_parameter_lu)\n",
    "streaming = lt.StandardStreaming(lattice)\n",
    "simulation = lt.Simulation(flow=flow, lattice=lattice, collision=collision, streaming=streaming)"
   ]
  },
  {
   "cell_type": "code",
   "execution_count": 3,
   "id": "99dd5818",
   "metadata": {},
   "outputs": [],
   "source": [
    "x, y = flow.grid #ein meshgrid mit x-2D Array und y-2D Array"
   ]
  },
  {
   "cell_type": "code",
   "execution_count": 4,
   "id": "c363d83d",
   "metadata": {},
   "outputs": [
    {
     "data": {
      "text/plain": [
       "array([[ 0.    ,  0.    ,  0.    , ...,  0.    ,  0.    ,  0.    ],\n",
       "       [ 0.0202,  0.0202,  0.0202, ...,  0.0202,  0.0202,  0.0202],\n",
       "       [ 0.0404,  0.0404,  0.0404, ...,  0.0404,  0.0404,  0.0404],\n",
       "       ...,\n",
       "       [10.0394, 10.0394, 10.0394, ..., 10.0394, 10.0394, 10.0394],\n",
       "       [10.0596, 10.0596, 10.0596, ..., 10.0596, 10.0596, 10.0596],\n",
       "       [10.0798, 10.0798, 10.0798, ..., 10.0798, 10.0798, 10.0798]])"
      ]
     },
     "execution_count": 4,
     "metadata": {},
     "output_type": "execute_result"
    }
   ],
   "source": [
    "x"
   ]
  },
  {
   "cell_type": "code",
   "execution_count": null,
   "id": "0c55582b",
   "metadata": {},
   "outputs": [],
   "source": []
  }
 ],
 "metadata": {
  "kernelspec": {
   "display_name": "Python 3 (ipykernel)",
   "language": "python",
   "name": "python3"
  },
  "language_info": {
   "codemirror_mode": {
    "name": "ipython",
    "version": 3
   },
   "file_extension": ".py",
   "mimetype": "text/x-python",
   "name": "python",
   "nbconvert_exporter": "python",
   "pygments_lexer": "ipython3",
   "version": "3.10.6"
  }
 },
 "nbformat": 4,
 "nbformat_minor": 5
}
