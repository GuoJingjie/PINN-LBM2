{
 "cells": [
  {
   "cell_type": "code",
   "execution_count": 1,
   "id": "b7373a51",
   "metadata": {
    "scrolled": false
   },
   "outputs": [],
   "source": [
    "import lettuce as lt\n",
    "import matplotlib.pyplot as plt\n",
    "\n",
    "import warnings\n",
    "import numpy as np\n",
    "from lettuce.unit import UnitConversion\n",
    "from lettuce.util import append_axes\n",
    "from lettuce.boundary import EquilibriumBoundaryPU, BounceBackBoundary, EquilibriumOutletP, AntiBounceBackOutlet\n",
    "\n",
    "import torch\n",
    "import time"
   ]
  },
  {
   "cell_type": "code",
   "execution_count": 2,
   "id": "8c8166e8",
   "metadata": {
    "scrolled": false
   },
   "outputs": [],
   "source": [
    "### Parameter\n",
    "re = 100\n",
    "n_steps = 50000\n",
    "ny = 100 #ny=2*nx\n",
    "u_init = 1 #1= kein Geschwindigkeit, 2=poiseuille-artig\n",
    "perturb_init = False # leichte Asymmetrie in Anfangs-Geschwindigkeitsverteilung -> Amplitude kann unten gewählt werden\n",
    "u_in_parabel = True # True=parabel_in, False=constant_in\n",
    "bb_wall = True # True= bounce-back-walls, False= periodic RB-walls\n",
    "cylinder = True # True = cylinder obstacle, False = no obstascle\n",
    "vtk_out = True # True = vtk-output, False = no vtk-output\n",
    "vtk_interval=50"
   ]
  },
  {
   "cell_type": "code",
   "execution_count": 3,
   "id": "221af40d",
   "metadata": {
    "scrolled": false
   },
   "outputs": [],
   "source": [
    "### Cylinder2D: modifizierte obstacle.py Klasse, zur Simulation eines umströmten Zylinders\n",
    "\n",
    "class Cylinder2D:\n",
    "\n",
    "    def __init__(self, shape, reynolds_number, mach_number, lattice, domain_length_x, char_length=1, char_velocity=1, boundary=None):\n",
    "        if len(shape) != lattice.D:\n",
    "            raise ValueError(f\"{lattice.D}-dimensional lattice requires {lattice.D}-dimensional `shape`\")\n",
    "        self.shape = shape\n",
    "        char_length_lu = shape[0] / domain_length_x * char_length\n",
    "        self.units = UnitConversion(\n",
    "            lattice,\n",
    "            reynolds_number=reynolds_number, mach_number=mach_number,\n",
    "            characteristic_length_lu=char_length_lu, characteristic_length_pu=char_length,\n",
    "            characteristic_velocity_pu=char_velocity\n",
    "        )\n",
    "        self._mask = np.zeros(shape=self.shape, dtype=bool) #deprecation warning: \"np.bool\" ist ein alter alias für das buildin \"bool\"\n",
    "        self._boundary = boundary\n",
    "\n",
    "    @property\n",
    "    def mask(self):\n",
    "        return self._mask\n",
    "\n",
    "    @mask.setter\n",
    "    def mask(self, m):\n",
    "        assert isinstance(m, np.ndarray) and m.shape == self.shape\n",
    "        self._mask = m.astype(bool) #deprecation warning: \"np.bool\" ist ein alter alias für das buildin \"bool\"\n",
    "\n",
    "    def initial_solution(self, x):\n",
    "        p = np.zeros_like(x[0], dtype=float)[None, ...]\n",
    "        u_char = self.units.characteristic_velocity_pu * self._unit_vector()\n",
    "        u_char = append_axes(u_char, self.units.lattice.D) # u_char ist in PU (!) -> 1.0\n",
    "        u = (1 - self.mask) * u_char\n",
    "        #print(\"u erste aus initial: \", u)\n",
    "        \n",
    "### Wähle initiale Geschwindigkeitsverteilung:\n",
    "        #u_init = 0 # uniform ux=1.0\n",
    "        \n",
    "        if u_init == 1: # no velocity\n",
    "            u = u * 0\n",
    "        elif u_init ==2: # uniform parabolic (a bit like poiseuille-flow)\n",
    "            ### initiale Geschwindigkeitsverteilung parabelförmig\n",
    "            u = (1 - self.mask) * u_char\n",
    "            ny = self.shape[1] #Gitterpunktzahl in y-Richtung           \n",
    "            u1=np.zeros(ny)\n",
    "            parabel_breite = ny-2\n",
    "            y_werte = np.arange(0, parabel_breite) + 0.5\n",
    "            u1[1:-1] = - self.units.characteristic_velocity_pu * y_werte * (y_werte - (parabel_breite)) * 1/(parabel_breite/2)**2\n",
    "            print(\"u1 aus initial: \", u1)\n",
    "            u=np.einsum('k,ijk->ijk',u1,u)\n",
    "            print(\"u aus initial: \", u)\n",
    "\n",
    "### Störe Initialverteilung für Asymmetrie\n",
    "        if perturb_init:\n",
    "            # überlagere Sinus-Störung in ux über die zweite Spalte\n",
    "            ny = x[1].shape[1]\n",
    "            if u.max() < 0.5*self.units.characteristic_velocity_pu:\n",
    "                u[0][1] += np.sin(np.arange(0, ny) / ny * 2 * np.pi) * self.units.characteristic_velocity_pu * 1.0 #0.3\n",
    "            else:\n",
    "                u[0][1] *= 1 + np.sin(np.arange(0, ny) / ny * 2 * np.pi) * self.units.characteristic_velocity_pu * 0.3\n",
    "            plt.plot(u[0][1])\n",
    "        return p, u\n",
    "\n",
    "    @property\n",
    "    def grid(self):\n",
    "        # linspace erlaubt endpoint=True im Gegensatz zu Arange \"np.linspace(0,n,n)\" war vorher \"np.arange(n)\"\n",
    "        xyz = tuple(self.units.convert_length_to_pu(np.linspace(0,n,n)) for n in self.shape)\n",
    "        return np.meshgrid(*xyz, indexing='ij')\n",
    "\n",
    "    @property\n",
    "    def boundaries(self):\n",
    "        x = self.grid[0]\n",
    "        \n",
    "        # INLET mask\n",
    "        inmask = np.zeros(self.grid[0].shape, dtype=bool)\n",
    "        inmask[0, 1:-1] = True  # bzw. inmask [0,:] ABER DANN überlagern sich die Boundaries in den Ecken, bzw. auf jeden Ecke überlagern sich die Ränder mit den Wänden\n",
    "\n",
    "### BB oder periodic RB auf oberem und unterem Rand    \n",
    "        # BounceBack auf der oberen und unteren Wand:\n",
    "        if bb_wall == True:\n",
    "            self.mask[:, [0, -1]] = True\n",
    "\n",
    "        if self._boundary is None: #falls _boundary nicht außerhalb der Klasse belegt wurde\n",
    "            inlet_boundary = EquilibriumBoundaryPU(\n",
    "                # np.abs(x) < 1e-6, # ursprüngliche Implementierung sucht hierrüber den Rand\n",
    "                inmask, # definiert Einlass\n",
    "                self.units.lattice, self.units,\n",
    "                self.units.characteristic_velocity_pu * self._unit_vector()\n",
    "            )\n",
    "        else:\n",
    "            inlet_boundary = self._boundary\n",
    "        return [\n",
    "            inlet_boundary,\n",
    "            # AntiBounceBackOutlet(self.units.lattice, self._unit_vector().tolist()), #crasht, sobald der erste Wirbel den Auslass trifft\n",
    "            EquilibriumOutletP(self.units.lattice, self._unit_vector().tolist()),  # wird von PyCharm als \"unknown reference\" markiert? -> LSG: stand oben im Import nicht drin (!)\n",
    "            BounceBackBoundary(self.mask, self.units.lattice) #BounceBack definiert über self.mask, u.a. für das obstacle selbst (!)\n",
    "        ]\n",
    "\n",
    "    def _unit_vector(self, i=0):\n",
    "        return np.eye(self.units.lattice.D)[i]"
   ]
  },
  {
   "cell_type": "code",
   "execution_count": 4,
   "id": "79aac405",
   "metadata": {
    "scrolled": false
   },
   "outputs": [],
   "source": [
    "### Modifizierte EquilibrimuBoundary.PU aus boundary.py, welche die Möglichkeit eines parabelförmigen\n",
    "### Geschwindigkeitsprofils am Einlass erlaubt.\n",
    "\n",
    "class EquilibriumBoundaryPU:\n",
    "    \"\"\"Sets distributions on this boundary to equilibrium with predefined velocity and pressure.\n",
    "    Note that this behavior is generally not compatible with the Navier-Stokes equations.\n",
    "    This boundary condition should only be used if no better options are available.\n",
    "    \"\"\"\n",
    "\n",
    "    def __init__(self, mask, lattice, units, velocity, pressure=0):\n",
    "        self.mask = lattice.convert_to_tensor(mask)\n",
    "        self.lattice = lattice\n",
    "        self.units = units\n",
    "        self.velocity = lattice.convert_to_tensor(velocity)\n",
    "        self.pressure = lattice.convert_to_tensor(pressure)\n",
    "\n",
    "    def __call__(self, f):\n",
    "        rho = self.units.convert_pressure_pu_to_density_lu(self.pressure)\n",
    "        \n",
    "        ### räumliche Form des einströmenden Geschwindigkeitsprofils\n",
    "        ### PARABEL- (später mal Poiseuille) oder KONSTANT\n",
    "### Geschwindigkeitsverteilung am Einlass        \n",
    "        #u_in_parabel=True\n",
    "        if u_in_parabel:\n",
    "            ## Parabelförmige Geschwindigkeit, vom zweiten bis vorletzten Randpunkt, damit die RB nicht mit den Wänden kollidiert\n",
    "                ## How to Parabel:\n",
    "                ## 1.Parabel in Nullstellenform: y = (x-x1)*(x-x2)\n",
    "                ## 2.nach oben geöffnete Parabel mit Nullstelle bei x1=0 und x2=x0: y=-x*(x-x0)\n",
    "                ## 3.skaliere Parabel, sodass der Scheitelpunkt immer bei ys=1.0 ist: y=-x*(x-x0)*(1/(x0/2)²)\n",
    "                ## (4. optinal) skaliere Amplitude der Parabel mit 1.5, um dem Integral einer konstanten Einstromgeschwindigkeit zu entsprechen\n",
    "            ny = f.shape[2] #Gitterpunktzahl in y-Richtung\n",
    "            u1 = np.zeros((1,ny)) #x-Geschwindigkeiten der Randbedingung\n",
    "            parabel_breite = ny-2 #lässt die Wand-Randbedingung aus, diese wird nicht belegt                \n",
    "            y_werte = np.arange(0, parabel_breite) + 0.5 # die 0.5 shiftet die Parabel, sodass man Symmetrie erhält, sowohl bei geraden, als auch ungeraden Gitterpunktzahlen\n",
    "            # Skalierungsfaktor 3/2=1.5 für die Parabelamplitude, falls man im Integral der Konstantgeschwindigkeit entsprechenn möchte.\n",
    "            u1[:,1:-1] = - self.units.characteristic_velocity_lu * y_werte * (y_werte - (parabel_breite)) * 1/(parabel_breite/2)**2 # (!) es muss die charakteristische Geschwindigkeit in LU genutzt werden (!) -> der Unterschied PU/LU ist u.U. Größenordnungen und es kommt bei falscher Nutzung zu Schock/Überschall -> Crash\n",
    "            # in 2D braucht u1 dann die Dimension 1 x ny (!)\n",
    "            # u1 wird ux, u2 wird uy, beide stehen zusammen in u\n",
    "            u2 = np.zeros_like(u1) #keine y-Geschwindigkeit\n",
    "            u = np.stack([u1, u2], axis=0)\n",
    "            u = self.lattice.convert_to_tensor(u)\n",
    "            feq = self.lattice.equilibrium(rho, u) # Berechne Gleichgewichtsverteilung auf Einlassrand\n",
    "            f[:,0,:]=feq[:, 0, :] # setze die FEQ mit parabelförmiger Geschwindigkeit nur auf den Einlass Rand\n",
    "        else:\n",
    "            ## konstante Geschwindigkeitswert (u_LU: 0.0289, u_PU: 1.0)        \n",
    "            u = self.units.convert_velocity_to_lu(self.velocity) # ein Tensor: tensor([0.0289, 0.0000], device='cuda:0')\n",
    "            feq = self.lattice.equilibrium(rho, u)\n",
    "            feq = self.lattice.einsum(\"q,q->q\", [feq, torch.ones_like(f)])\n",
    "            #  feq = self.lattice.einsum(\"q,q->q\", [feq, torch.ones_like(f)]) # \"einsum\" MÄCHTIG -> Matrix/Vektor verwurschteln. \n",
    "            # feq hat einen INdex q (hier velocities aus dem Stencil) -> kann ale Vektoroperationen vollführen, wenn man die Indizierung kennt und die an einsum() korrekt mitgibt\n",
    "            # Die q-Dimension vom einen mit der q-Dimension vom anderen multipliziert, ergibt die neue q-Dimension des Ergebnisses\n",
    "            # Vektorprodukt, Kreuzprodukt, Additione etc., sämtliche Vektor/Matrix/Tensor-Operationen lassen sich über Einsum abbilden\n",
    "            f = torch.where(self.mask, feq, f)\n",
    "        \n",
    "        return f"
   ]
  },
  {
   "cell_type": "code",
   "execution_count": 5,
   "id": "cf1b773a",
   "metadata": {
    "scrolled": true
   },
   "outputs": [],
   "source": [
    "### Parameter\n",
    "#exmpl: Re1000,steps25000,ny1000 braucht 43min\n",
    "    #re=10\n",
    "    #n_steps=25000\n",
    "    #ny=5 #nx=2*ny\n",
    "\n",
    "# Inlet-Geschwindigkeitsverteilung: in EquilibriumBoundaryPU oben\n",
    "# Wand-Randbindungen (BounceBack oder periodic) in boundary in Cylinder2D oben\n",
    "# Störung in initial_solution in Cylinder2D oben\n",
    "\n",
    "### Setup\n",
    "\n",
    "lattice = lt.Lattice(lt.D2Q9, \"cuda:0\", dtype=torch.float64)\n",
    "flow = Cylinder2D(\n",
    "    (2*ny, ny), #shape der 2D-Box ist XxY: 2ny x ny\n",
    "    reynolds_number=re, #50.0\n",
    "    mach_number=0.05,\n",
    "    lattice=lattice,\n",
    "    domain_length_x=10.0 #10.1, # in PU\n",
    ")\n",
    "\n",
    "### Einlass-Randbedingung\n",
    "\n",
    "# INLET mask wird bei \"parabel\" nicht verwendet (!) -> Maske ist dort direkt in der Belegung von f in der bounrady-Klasse (s.o.) definiert\n",
    "inmask = np.zeros(flow.grid[0].shape, dtype=bool)\n",
    "inmask[0, 1:-1] = True # Ort der EquilibriumBoundaryPU RB: konret: kompletter linker Rand, exklusive Eckpunkten\n",
    "boundary = EquilibriumBoundaryPU(\n",
    "    inmask,\n",
    "    flow.units.lattice, flow.units,\n",
    "    flow.units.characteristic_velocity_pu * flow._unit_vector()\n",
    ")\n",
    "flow._boundary = boundary\n",
    "\n",
    "### Definiere Obstacle (Zylinder)\n",
    "if cylinder == True:\n",
    "    x, y = flow.grid #gibt ein Meshgrid zurück: x-2D-Array, y-2D-Array\n",
    "        # in der ursprünglichen Implementierung von grid mit \"arange(n)\" reicht das grid für n=10 z.B. von 0 bis 9... d.h. die Position 5 ist nicht in der Mitte (!)\n",
    "        # in Cylnider2D (s.o.) ist das grid mit linspace erstellt und geht für n Punkte von 0 bis n inklusive 0 und n als Randpunkte\n",
    "    #print(\"x grid \", x)\n",
    "    #print(\"y grid \", y)\n",
    "\n",
    "    # Zylinder - Kreisgleichung (x-x0)²+(y-y0)²<r² in PU\n",
    "    condition = np.sqrt((x-2.5)**2+(y-2.5)**2) < 0.5 #die Kreisgleichung rechnet in PU, d.h. die Auflösung spielt hier keine Rolle(!)\n",
    "    flow.mask[np.where(condition)] = 1 #erstelle Obstacle Form (mask als Bool)\n",
    "\n",
    "#print(\"flow_obstacle_mask: \",flow.mask) #kontrolliere Symmetrie\n",
    "\n",
    "tau = flow.units.relaxation_parameter_lu\n",
    "sim = lt.Simulation(flow, lattice, lt.BGKCollision(lattice, tau), \n",
    "                    lt.StandardStreaming(lattice))\n",
    "\n",
    "### Reporter\n",
    "\n",
    "# VTK Reporter -> Visualisierung\n",
    "if vtk_out == True:\n",
    "    VTKreport = lt.VTKReporter(lattice, flow, interval=vtk_interval, filename_base=\"/mnt/ScratchHDD1/Max_Scratch/cylinder_vtk/out\")\n",
    "    sim.reporters.append(VTKreport)\n",
    "\n"
   ]
  },
  {
   "cell_type": "code",
   "execution_count": 6,
   "id": "01b7827d",
   "metadata": {
    "scrolled": false
   },
   "outputs": [],
   "source": [
    "# ### Simulation\n",
    "\n",
    "# t_start=time.time()\n",
    "# #sim.step(n_steps) #Simulation mit Schrittzahl n_steps\n",
    "# print(\"PU-Time: \",flow.units.convert_time_to_pu(n_steps),\" seconds\")\n",
    "# print(\"Re=\",re)\n",
    "# print(\"char_velocity_LU\", flow.units.characteristic_velocity_lu)\n",
    "# print(\"number of steps:\",n_steps)\n",
    "# print(\"runtime: \",time.time()-t_start, \"seconds\")"
   ]
  },
  {
   "cell_type": "code",
   "execution_count": 7,
   "id": "e735a201",
   "metadata": {
    "scrolled": true
   },
   "outputs": [],
   "source": [
    "# sim.step(1)\n",
    "# u = lattice.u(sim.f)\n",
    "# print(\" u nach step:\",u)"
   ]
  },
  {
   "cell_type": "code",
   "execution_count": 8,
   "id": "ec0017fa",
   "metadata": {},
   "outputs": [],
   "source": [
    "diff_list = []\n",
    "u_list = []"
   ]
  },
  {
   "cell_type": "code",
   "execution_count": 9,
   "id": "c1ce55df",
   "metadata": {
    "scrolled": true
   },
   "outputs": [
    {
     "name": "stdout",
     "output_type": "stream",
     "text": [
      "PU-Time:  72.16878364870324  seconds\n",
      "number of steps: 50000\n",
      "runtime:  72.01323390007019 seconds\n"
     ]
    }
   ],
   "source": [
    "### Simulation mit u_diff\n",
    "\n",
    "# Wähle Koordinaten des Geschwindigkeits-Messpunkts für die u_diff Analyse (relativ zum Gitter in LU)\n",
    "nx, ny = flow.shape\n",
    "x_test = int(nx/2)\n",
    "y_test = int(ny/4)\n",
    "\n",
    "t_start = time.time()\n",
    "for i in range(n_steps):\n",
    "    sim.step(1)\n",
    "    #finde Asymmetrie der Geschwindigkeit in y-Richtung um Spiegelachse:\n",
    "    #Differenz zwischen ux und ux an um y gespiegelt:\n",
    "    u = lattice.u(sim.f)\n",
    "    u_diff = torch.flip(u,[2])-u\n",
    "    u_list.append(u[0,x_test,y_test].cpu())\n",
    "    diff_list.append(u_diff[0,x_test,y_test].cpu())\n",
    "t_end = time.time()-t_start\n",
    "print(\"PU-Time: \",flow.units.convert_time_to_pu(n_steps),\" seconds\")\n",
    "print(\"number of steps:\",n_steps)\n",
    "print(\"runtime: \",time.time()-t_start, \"seconds\")"
   ]
  },
  {
   "cell_type": "code",
   "execution_count": 21,
   "id": "aae8e1a7",
   "metadata": {
    "scrolled": true
   },
   "outputs": [
    {
     "data": {
      "text/plain": [
       "Text(0.5, 1.0, 'u_diff @ x,y = 100,25')"
      ]
     },
     "execution_count": 21,
     "metadata": {},
     "output_type": "execute_result"
    },
    {
     "data": {
      "image/png": "[encoded data removed]",
      "text/plain": [
       "<Figure size 1000x270 with 2 Axes>"
      ]
     },
     "metadata": {},
     "output_type": "display_data"
    }
   ],
   "source": [
    "### plot u_diff - Symmetrieuntersuchung der Geschwindigkeit\n",
    "\n",
    "fig, axs = plt.subplots(1, 2, figsize=(10, 2.7), layout='constrained')\n",
    "axs[0].plot(u_list)\n",
    "axs[0].set_title(\"u @ x,y = \"+str(x_test)+\",\"+str(y_test))\n",
    "axs[1].plot(diff_list)\n",
    "axs[1].set_title(\"u_diff @ x,y = \"+str(x_test)+\",\"+str(y_test))"
   ]
  },
  {
   "cell_type": "code",
   "execution_count": 11,
   "id": "f871700c",
   "metadata": {
    "scrolled": false
   },
   "outputs": [
    {
     "name": "stdout",
     "output_type": "stream",
     "text": [
      "### sim parms ###\n",
      "Re =  10000\n",
      "n_steps =  50000\n",
      "nx x ny =  200  x  100\n",
      "u_init =  1\n",
      "u_in_parabel =  True\n",
      "bb_wall =  True\n",
      "cylinder =  True\n",
      "vtk_out =  True\n"
     ]
    }
   ],
   "source": [
    "### print sim parms\n",
    "\n",
    "print(\"### sim parms ###\")\n",
    "print(\"Re = \", re)\n",
    "print(\"n_steps = \", n_steps)\n",
    "print(\"nx x ny = \", 2*ny, \" x \", ny)\n",
    "print(\"u_init = \", u_init)\n",
    "print(\"u_in_parabel = \", u_in_parabel)\n",
    "print(\"bb_wall = \", bb_wall)\n",
    "print(\"cylinder = \", cylinder)\n",
    "print(\"vtk_out = \", vtk_out)"
   ]
  },
  {
   "cell_type": "code",
   "execution_count": 12,
   "id": "bfa834cb",
   "metadata": {
    "scrolled": false
   },
   "outputs": [
    {
     "data": {
      "text/plain": [
       "<function Tensor.max>"
      ]
     },
     "execution_count": 12,
     "metadata": {},
     "output_type": "execute_result"
    }
   ],
   "source": [
    "u.max"
   ]
  },
  {
   "cell_type": "code",
   "execution_count": 13,
   "id": "b41b6381",
   "metadata": {},
   "outputs": [
    {
     "name": "stdout",
     "output_type": "stream",
     "text": [
      "tensor(nan, device='cuda:0', dtype=torch.float64)\n"
     ]
    }
   ],
   "source": [
    "print(u.max())"
   ]
  },
  {
   "cell_type": "code",
   "execution_count": 14,
   "id": "e61abc6d",
   "metadata": {},
   "outputs": [
    {
     "name": "stdout",
     "output_type": "stream",
     "text": [
      "tensor(nan, device='cuda:0', dtype=torch.float64)\n"
     ]
    }
   ],
   "source": [
    "print(u.min())"
   ]
  },
  {
   "cell_type": "code",
   "execution_count": null,
   "id": "1634d247",
   "metadata": {},
   "outputs": [],
   "source": []
  }
 ],
 "metadata": {
  "kernelspec": {
   "display_name": "Python 3 (ipykernel)",
   "language": "python",
   "name": "python3"
  },
  "language_info": {
   "codemirror_mode": {
    "name": "ipython",
    "version": 3
   },
   "file_extension": ".py",
   "mimetype": "text/x-python",
   "name": "python",
   "nbconvert_exporter": "python",
   "pygments_lexer": "ipython3",
   "version": "3.10.6"
  },
  "varInspector": {
   "cols": {
    "lenName": 16,
    "lenType": 16,
    "lenVar": 40
   },
   "kernels_config": {
    "python": {
     "delete_cmd_postfix": "",
     "delete_cmd_prefix": "del ",
     "library": "var_list.py",
     "varRefreshCmd": "print(var_dic_list())"
    },
    "r": {
     "delete_cmd_postfix": ") ",
     "delete_cmd_prefix": "rm(",
     "library": "var_list.r",
     "varRefreshCmd": "cat(var_dic_list()) "
    }
   },
   "types_to_exclude": [
    "module",
    "function",
    "builtin_function_or_method",
    "instance",
    "_Feature"
   ],
   "window_display": false
  }
 },
 "nbformat": 4,
 "nbformat_minor": 5
}
